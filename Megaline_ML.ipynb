{
 "cells": [
  {
   "cell_type": "markdown",
   "metadata": {},
   "source": [
    "# Megaline Mobile Machine Learning Project\n",
    "\n",
    "   In this project we will work with a dataset from a mobile network company named Megaline Mobile. Their main concern is about the number of customers still using their old plan. They are aiming to create a model that can analyze customer behavior and recommend to them either Smart or Ultra packages.\n",
    "    \n",
    "The dataset provided to use contains data on customer behavior, specifically the ones who have already made the switch to new packages from a previous statistical data analysis project. We will develop a model that can accurately choose the appropriate package for each customer. Our primary goal is to achieve a high accuracy level with the minimum set at 75%.\n",
    "\n"
   ]
  },
  {
   "cell_type": "markdown",
   "metadata": {},
   "source": [
    "<div class=\"alert alert-success\">\n",
    "<b>Reviewer's comment v1:</b>\n",
    "    \n",
    "It is always helpful for the reader to have additional information about project tasks. It gives an overview of what you are going to achieve in this project.\n"
   ]
  },
  {
   "cell_type": "markdown",
   "metadata": {},
   "source": [
    "## Data Preperation"
   ]
  },
  {
   "cell_type": "code",
   "execution_count": 1,
   "metadata": {},
   "outputs": [],
   "source": [
    "import pandas as pd\n",
    "import numpy as np\n",
    "import seaborn as sns\n",
    "import matplotlib.pyplot as plt\n",
    "\n",
    "from sklearn.tree import DecisionTreeClassifier\n",
    "from sklearn.ensemble import RandomForestClassifier\n",
    "from sklearn.linear_model import LogisticRegression\n",
    "from sklearn.model_selection import train_test_split\n",
    "from sklearn.metrics import accuracy_score"
   ]
  },
  {
   "cell_type": "code",
   "execution_count": 2,
   "metadata": {},
   "outputs": [],
   "source": [
    "megaline_df = pd.read_csv('/datasets/users_behavior.csv')"
   ]
  },
  {
   "cell_type": "code",
   "execution_count": 3,
   "metadata": {},
   "outputs": [
    {
     "name": "stdout",
     "output_type": "stream",
     "text": [
      "<class 'pandas.core.frame.DataFrame'>\n",
      "RangeIndex: 3214 entries, 0 to 3213\n",
      "Data columns (total 5 columns):\n",
      " #   Column    Non-Null Count  Dtype  \n",
      "---  ------    --------------  -----  \n",
      " 0   calls     3214 non-null   float64\n",
      " 1   minutes   3214 non-null   float64\n",
      " 2   messages  3214 non-null   float64\n",
      " 3   mb_used   3214 non-null   float64\n",
      " 4   is_ultra  3214 non-null   int64  \n",
      "dtypes: float64(4), int64(1)\n",
      "memory usage: 125.7 KB\n"
     ]
    }
   ],
   "source": [
    "megaline_df.info()"
   ]
  },
  {
   "cell_type": "code",
   "execution_count": 4,
   "metadata": {},
   "outputs": [
    {
     "data": {
      "text/html": [
       "<div>\n",
       "<style scoped>\n",
       "    .dataframe tbody tr th:only-of-type {\n",
       "        vertical-align: middle;\n",
       "    }\n",
       "\n",
       "    .dataframe tbody tr th {\n",
       "        vertical-align: top;\n",
       "    }\n",
       "\n",
       "    .dataframe thead th {\n",
       "        text-align: right;\n",
       "    }\n",
       "</style>\n",
       "<table border=\"1\" class=\"dataframe\">\n",
       "  <thead>\n",
       "    <tr style=\"text-align: right;\">\n",
       "      <th></th>\n",
       "      <th>calls</th>\n",
       "      <th>minutes</th>\n",
       "      <th>messages</th>\n",
       "      <th>mb_used</th>\n",
       "      <th>is_ultra</th>\n",
       "    </tr>\n",
       "  </thead>\n",
       "  <tbody>\n",
       "    <tr>\n",
       "      <th>0</th>\n",
       "      <td>40.0</td>\n",
       "      <td>311.90</td>\n",
       "      <td>83.0</td>\n",
       "      <td>19915.42</td>\n",
       "      <td>0</td>\n",
       "    </tr>\n",
       "    <tr>\n",
       "      <th>1</th>\n",
       "      <td>85.0</td>\n",
       "      <td>516.75</td>\n",
       "      <td>56.0</td>\n",
       "      <td>22696.96</td>\n",
       "      <td>0</td>\n",
       "    </tr>\n",
       "    <tr>\n",
       "      <th>2</th>\n",
       "      <td>77.0</td>\n",
       "      <td>467.66</td>\n",
       "      <td>86.0</td>\n",
       "      <td>21060.45</td>\n",
       "      <td>0</td>\n",
       "    </tr>\n",
       "    <tr>\n",
       "      <th>3</th>\n",
       "      <td>106.0</td>\n",
       "      <td>745.53</td>\n",
       "      <td>81.0</td>\n",
       "      <td>8437.39</td>\n",
       "      <td>1</td>\n",
       "    </tr>\n",
       "    <tr>\n",
       "      <th>4</th>\n",
       "      <td>66.0</td>\n",
       "      <td>418.74</td>\n",
       "      <td>1.0</td>\n",
       "      <td>14502.75</td>\n",
       "      <td>0</td>\n",
       "    </tr>\n",
       "  </tbody>\n",
       "</table>\n",
       "</div>"
      ],
      "text/plain": [
       "   calls  minutes  messages   mb_used  is_ultra\n",
       "0   40.0   311.90      83.0  19915.42         0\n",
       "1   85.0   516.75      56.0  22696.96         0\n",
       "2   77.0   467.66      86.0  21060.45         0\n",
       "3  106.0   745.53      81.0   8437.39         1\n",
       "4   66.0   418.74       1.0  14502.75         0"
      ]
     },
     "execution_count": 4,
     "metadata": {},
     "output_type": "execute_result"
    }
   ],
   "source": [
    "megaline_df.head()"
   ]
  },
  {
   "cell_type": "code",
   "execution_count": 5,
   "metadata": {},
   "outputs": [
    {
     "data": {
      "text/html": [
       "<div>\n",
       "<style scoped>\n",
       "    .dataframe tbody tr th:only-of-type {\n",
       "        vertical-align: middle;\n",
       "    }\n",
       "\n",
       "    .dataframe tbody tr th {\n",
       "        vertical-align: top;\n",
       "    }\n",
       "\n",
       "    .dataframe thead th {\n",
       "        text-align: right;\n",
       "    }\n",
       "</style>\n",
       "<table border=\"1\" class=\"dataframe\">\n",
       "  <thead>\n",
       "    <tr style=\"text-align: right;\">\n",
       "      <th></th>\n",
       "      <th>calls</th>\n",
       "      <th>minutes</th>\n",
       "      <th>messages</th>\n",
       "      <th>mb_used</th>\n",
       "      <th>is_ultra</th>\n",
       "    </tr>\n",
       "  </thead>\n",
       "  <tbody>\n",
       "    <tr>\n",
       "      <th>count</th>\n",
       "      <td>3214.000000</td>\n",
       "      <td>3214.000000</td>\n",
       "      <td>3214.000000</td>\n",
       "      <td>3214.000000</td>\n",
       "      <td>3214.000000</td>\n",
       "    </tr>\n",
       "    <tr>\n",
       "      <th>mean</th>\n",
       "      <td>63.038892</td>\n",
       "      <td>438.208787</td>\n",
       "      <td>38.281269</td>\n",
       "      <td>17207.673836</td>\n",
       "      <td>0.306472</td>\n",
       "    </tr>\n",
       "    <tr>\n",
       "      <th>std</th>\n",
       "      <td>33.236368</td>\n",
       "      <td>234.569872</td>\n",
       "      <td>36.148326</td>\n",
       "      <td>7570.968246</td>\n",
       "      <td>0.461100</td>\n",
       "    </tr>\n",
       "    <tr>\n",
       "      <th>min</th>\n",
       "      <td>0.000000</td>\n",
       "      <td>0.000000</td>\n",
       "      <td>0.000000</td>\n",
       "      <td>0.000000</td>\n",
       "      <td>0.000000</td>\n",
       "    </tr>\n",
       "    <tr>\n",
       "      <th>25%</th>\n",
       "      <td>40.000000</td>\n",
       "      <td>274.575000</td>\n",
       "      <td>9.000000</td>\n",
       "      <td>12491.902500</td>\n",
       "      <td>0.000000</td>\n",
       "    </tr>\n",
       "    <tr>\n",
       "      <th>50%</th>\n",
       "      <td>62.000000</td>\n",
       "      <td>430.600000</td>\n",
       "      <td>30.000000</td>\n",
       "      <td>16943.235000</td>\n",
       "      <td>0.000000</td>\n",
       "    </tr>\n",
       "    <tr>\n",
       "      <th>75%</th>\n",
       "      <td>82.000000</td>\n",
       "      <td>571.927500</td>\n",
       "      <td>57.000000</td>\n",
       "      <td>21424.700000</td>\n",
       "      <td>1.000000</td>\n",
       "    </tr>\n",
       "    <tr>\n",
       "      <th>max</th>\n",
       "      <td>244.000000</td>\n",
       "      <td>1632.060000</td>\n",
       "      <td>224.000000</td>\n",
       "      <td>49745.730000</td>\n",
       "      <td>1.000000</td>\n",
       "    </tr>\n",
       "  </tbody>\n",
       "</table>\n",
       "</div>"
      ],
      "text/plain": [
       "             calls      minutes     messages       mb_used     is_ultra\n",
       "count  3214.000000  3214.000000  3214.000000   3214.000000  3214.000000\n",
       "mean     63.038892   438.208787    38.281269  17207.673836     0.306472\n",
       "std      33.236368   234.569872    36.148326   7570.968246     0.461100\n",
       "min       0.000000     0.000000     0.000000      0.000000     0.000000\n",
       "25%      40.000000   274.575000     9.000000  12491.902500     0.000000\n",
       "50%      62.000000   430.600000    30.000000  16943.235000     0.000000\n",
       "75%      82.000000   571.927500    57.000000  21424.700000     1.000000\n",
       "max     244.000000  1632.060000   224.000000  49745.730000     1.000000"
      ]
     },
     "execution_count": 5,
     "metadata": {},
     "output_type": "execute_result"
    }
   ],
   "source": [
    "megaline_df.describe()"
   ]
  },
  {
   "cell_type": "code",
   "execution_count": 6,
   "metadata": {},
   "outputs": [
    {
     "data": {
      "text/plain": [
       "0    0.693528\n",
       "1    0.306472\n",
       "Name: is_ultra, dtype: float64"
      ]
     },
     "execution_count": 6,
     "metadata": {},
     "output_type": "execute_result"
    }
   ],
   "source": [
    "megaline_df['is_ultra'].value_counts(normalize=True)"
   ]
  },
  {
   "cell_type": "code",
   "execution_count": 7,
   "metadata": {},
   "outputs": [
    {
     "data": {
      "text/plain": [
       "calls       0\n",
       "minutes     0\n",
       "messages    0\n",
       "mb_used     0\n",
       "is_ultra    0\n",
       "dtype: int64"
      ]
     },
     "execution_count": 7,
     "metadata": {},
     "output_type": "execute_result"
    }
   ],
   "source": [
    "megaline_df.isna().sum()"
   ]
  },
  {
   "cell_type": "markdown",
   "metadata": {},
   "source": [
    "After a intial look at the dataset containing information on customer behavior, the dataset looks accurate with no missing values nor duplicated rows.\n",
    "\n",
    "The data column `is_ultra` however is heavily favored to customers with the ultra package and 70% and 30% without the ultra package.\n",
    "\n",
    "The model's accuracy may be at risk due to this."
   ]
  },
  {
   "cell_type": "markdown",
   "metadata": {},
   "source": [
    "## Model Training"
   ]
  },
  {
   "cell_type": "code",
   "execution_count": 8,
   "metadata": {},
   "outputs": [],
   "source": [
    "#Data Split into 3:1:1 ratio\n",
    "\n",
    "train_and_valid, test = train_test_split(megaline_df, test_size = 0.2, random_state= 54321)\n",
    "train, valid = train_test_split(train_and_valid, test_size = 0.25)"
   ]
  },
  {
   "cell_type": "code",
   "execution_count": 9,
   "metadata": {},
   "outputs": [],
   "source": [
    "# Data train set\n",
    "feature_train = train.drop(['is_ultra'], axis=1)\n",
    "target_train = train['is_ultra']\n",
    "\n",
    "# Data validation\n",
    "feature_valid = valid.drop(['is_ultra'], axis=1)\n",
    "target_valid = valid['is_ultra']\n",
    "\n",
    "# Data test\n",
    "\n",
    "feature_test = test.drop(['is_ultra'], axis=1)\n",
    "target_test = test['is_ultra']"
   ]
  },
  {
   "cell_type": "code",
   "execution_count": 10,
   "metadata": {},
   "outputs": [
    {
     "name": "stdout",
     "output_type": "stream",
     "text": [
      "(1928, 4)\n",
      "(643, 4)\n",
      "(643, 4)\n"
     ]
    }
   ],
   "source": [
    "print(feature_train.shape)\n",
    "print(feature_valid.shape)\n",
    "print(feature_test.shape)"
   ]
  },
  {
   "cell_type": "markdown",
   "metadata": {},
   "source": [
    "### Model before Tuning"
   ]
  },
  {
   "cell_type": "code",
   "execution_count": 11,
   "metadata": {},
   "outputs": [
    {
     "name": "stdout",
     "output_type": "stream",
     "text": [
      "Accuracy training = 1.0\n",
      "Accuracy validation = 0.7558320373250389\n"
     ]
    }
   ],
   "source": [
    "# Create model Decision Tree\n",
    "model_tree = DecisionTreeClassifier()\n",
    "model_tree.fit(feature_train, target_train)\n",
    "\n",
    "train_predict = model_tree.predict(feature_train)\n",
    "valid_predict = model_tree.predict(feature_valid)\n",
    "\n",
    "# Accuracy check\n",
    "print(f'Accuracy training = {accuracy_score(target_train, train_predict)}')\n",
    "print(f'Accuracy validation = {accuracy_score(target_valid, valid_predict)}')"
   ]
  },
  {
   "cell_type": "markdown",
   "metadata": {},
   "source": [
    "The training accuracy reaches 100%.\n",
    "The validation accuracy reaches 74% which is below our minimum.\n",
    "\n",
    "This is an indication of overfitting.\n",
    "\n",
    "The Decision Tree model without tuning may be too complex for this dataset. The model may be catching too much noise and specific patterns in the training data leading to poor performace."
   ]
  },
  {
   "cell_type": "code",
   "execution_count": 12,
   "metadata": {},
   "outputs": [
    {
     "name": "stdout",
     "output_type": "stream",
     "text": [
      "Accuracy training = 1.0\n",
      "Accuracy validation = 0.7900466562986003\n"
     ]
    }
   ],
   "source": [
    "# Create model Random Forest\n",
    "model_forest = RandomForestClassifier()\n",
    "model_forest.fit(feature_train, target_train)\n",
    "\n",
    "train_predict = model_forest.predict(feature_train)\n",
    "valid_predict = model_forest.predict(feature_valid)\n",
    "\n",
    "print(f'Accuracy training = {accuracy_score(target_train, train_predict)}')\n",
    "print(f'Accuracy validation = {accuracy_score(target_valid, valid_predict)}')"
   ]
  },
  {
   "cell_type": "markdown",
   "metadata": {},
   "source": [
    "The Random Forest model training data reaches 100%.\n",
    "The validation set reaches 80%.\n",
    "\n",
    "This model appears to be a strong performer on the the training set but lower performace for the validation set. This shows that their is a potential of overfitting for this model."
   ]
  },
  {
   "cell_type": "code",
   "execution_count": 13,
   "metadata": {},
   "outputs": [
    {
     "name": "stdout",
     "output_type": "stream",
     "text": [
      "Accuracy training = 0.7344398340248963\n",
      "Accuracy validation = 0.6842923794712286\n"
     ]
    }
   ],
   "source": [
    "# Create model Logistic Regression\n",
    "model_regression = LogisticRegression()\n",
    "model_regression.fit(feature_train, target_train)\n",
    "\n",
    "train_predict = model_regression.predict(feature_train)\n",
    "valid_predict = model_regression.predict(feature_valid)\n",
    "\n",
    "print(f'Accuracy training = {accuracy_score(target_train, train_predict)}')\n",
    "print(f'Accuracy validation = {accuracy_score(target_valid, valid_predict)}')"
   ]
  },
  {
   "cell_type": "markdown",
   "metadata": {},
   "source": [
    "Both accuracies for the training and validation sets from the Logistic Regression model are below our threshold. Training: 71.8 % Validation: 73.5%. The difference is not significant but, this suggest that the model performs slightly better on unseen data."
   ]
  },
  {
   "cell_type": "markdown",
   "metadata": {},
   "source": [
    "The accuracy is still below our standard of 75%.\n",
    "\n",
    "So far there is no model that matches our criteria. We will tune our models."
   ]
  },
  {
   "cell_type": "markdown",
   "metadata": {},
   "source": [
    "## Model Tuning"
   ]
  },
  {
   "cell_type": "markdown",
   "metadata": {},
   "source": [
    "### Decision Tree Tuning"
   ]
  },
  {
   "cell_type": "code",
   "execution_count": 15,
   "metadata": {},
   "outputs": [
    {
     "name": "stdout",
     "output_type": "stream",
     "text": [
      "Depth:  1\n",
      "Accuracy training  : , 0.767\n",
      "Accuracy validation: , 0.712\n",
      "Depth:  2\n",
      "Accuracy training  : , 0.797\n",
      "Accuracy validation: , 0.759\n",
      "Depth:  3\n",
      "Accuracy training  : , 0.812\n",
      "Accuracy validation: , 0.776\n",
      "Depth:  4\n",
      "Accuracy training  : , 0.821\n",
      "Accuracy validation: , 0.782\n",
      "Depth:  5\n",
      "Accuracy training  : , 0.83\n",
      "Accuracy validation: , 0.781\n",
      "Depth:  6\n",
      "Accuracy training  : , 0.843\n",
      "Accuracy validation: , 0.781\n",
      "Depth:  7\n",
      "Accuracy training  : , 0.858\n",
      "Accuracy validation: , 0.781\n",
      "Depth:  8\n",
      "Accuracy training  : , 0.867\n",
      "Accuracy validation: , 0.781\n",
      "Depth:  9\n",
      "Accuracy training  : , 0.88\n",
      "Accuracy validation: , 0.792\n",
      "Depth:  10\n",
      "Accuracy training  : , 0.894\n",
      "Accuracy validation: , 0.796\n"
     ]
    }
   ],
   "source": [
    "best_train = .75\n",
    "best_valid = .75\n",
    "best_depth = 0\n",
    "\n",
    "for i in range(1,11):\n",
    "    tree_tuning = DecisionTreeClassifier(max_depth = i, random_state=12345)\n",
    "    tree_tuning.fit(feature_train, target_train)\n",
    "    \n",
    "    train_predict = tree_tuning.predict(feature_train)\n",
    "    valid_predict = tree_tuning.predict(feature_valid)\n",
    "    \n",
    "    train_accuracy = accuracy_score(target_train, train_predict)\n",
    "    valid_accuracy = accuracy_score(target_valid, valid_predict)\n",
    "    \n",
    "    print('Depth: ', i)\n",
    "    print(f'Accuracy training  : , {train_accuracy.round(3)}')\n",
    "    print(f'Accuracy validation: , {valid_accuracy.round(3)}')"
   ]
  },
  {
   "cell_type": "code",
   "execution_count": 16,
   "metadata": {},
   "outputs": [
    {
     "name": "stdout",
     "output_type": "stream",
     "text": [
      "Accuracy dataset test = 0.7838258164852255\n"
     ]
    }
   ],
   "source": [
    "# decision_tree_tuning = DecisionTreeClassifier(max_depth=8, random_state=12345)\n",
    "# decision_tree_tuning.fit(feature_train, target_train)\n",
    "\n",
    "# test_predict = decision_tree_tuning.predict(feature_test)\n",
    "# test_accuracy = accuracy_score(target_test, test_predict)\n",
    "\n",
    "# print(f'Accuracy dataset test = {test_accuracy}')"
   ]
  },
  {
   "cell_type": "markdown",
   "metadata": {},
   "source": [
    "Accuracy on this data set reaches 77.7 % which meets our criteria after tuning our hyperparameters."
   ]
  },
  {
   "cell_type": "markdown",
   "metadata": {},
   "source": [
    "### Random Forest Tuning"
   ]
  },
  {
   "cell_type": "code",
   "execution_count": 17,
   "metadata": {},
   "outputs": [
    {
     "name": "stdout",
     "output_type": "stream",
     "text": [
      "0.9066390041493776\n",
      "0.7978227060653188\n",
      "350\n",
      "10\n"
     ]
    }
   ],
   "source": [
    "best_train = .75\n",
    "best_valid = .75\n",
    "best_depth = 0\n",
    "best_est = 0\n",
    "acc_diff = .5\n",
    "\n",
    "for est in range(50, 501, 50):\n",
    "    for depth in range(1,11):\n",
    "        forest_tuning = RandomForestClassifier(n_estimators=est, max_depth=depth, random_state=12345)\n",
    "        forest_tuning.fit(feature_train, target_train)\n",
    "        \n",
    "        train_predict = forest_tuning.predict(feature_train)\n",
    "        valid_predict = forest_tuning.predict(feature_valid)\n",
    "        \n",
    "        train_accuracy = accuracy_score(target_train, train_predict)\n",
    "        valid_accuracy = accuracy_score(target_valid, valid_predict)\n",
    "        \n",
    "        diff = abs(train_accuracy - valid_accuracy)\n",
    "        \n",
    "        if diff <= acc_diff:\n",
    "            if (train_accuracy >= best_train and valid_accuracy >= best_valid):\n",
    "                best_train = train_accuracy\n",
    "                best_valid = valid_accuracy\n",
    "                best_est = est\n",
    "                best_depth = depth\n",
    "                \n",
    "print(best_train)\n",
    "print(best_valid)\n",
    "print(best_est)\n",
    "print(best_depth)"
   ]
  },
  {
   "cell_type": "code",
   "execution_count": 18,
   "metadata": {},
   "outputs": [
    {
     "name": "stdout",
     "output_type": "stream",
     "text": [
      "Accuracy dataset test= 0.787\n"
     ]
    }
   ],
   "source": [
    "forest_tuning = RandomForestClassifier(max_depth = best_depth, n_estimators = best_est, random_state=12345)\n",
    "forest_tuning.fit(feature_train, target_train)\n",
    "\n",
    "test_predict = forest_tuning.predict(feature_test)\n",
    "test_acc = accuracy_score(target_test, test_predict)\n",
    "\n",
    "print(f'Accuracy dataset test= {test_acc.round(3)}')"
   ]
  },
  {
   "cell_type": "markdown",
   "metadata": {},
   "source": [
    "The accuracy on our tuned Random Forest model proves to be even more efficient than our tuned Decision Tree model with a percentage of 78.7%. This meets our criteria."
   ]
  },
  {
   "cell_type": "code",
   "execution_count": 19,
   "metadata": {},
   "outputs": [
    {
     "name": "stdout",
     "output_type": "stream",
     "text": [
      "Acuuracy training = 0.7193983402489627\n",
      "Acuuracy validation = 0.6796267496111975\n"
     ]
    }
   ],
   "source": [
    "regression_tuning = LogisticRegression(solver='liblinear', random_state=12345)\n",
    "regression_tuning.fit(feature_train, target_train)\n",
    "\n",
    "train_predict = regression_tuning.predict(feature_train)\n",
    "valid_predict = regression_tuning.predict(feature_valid)\n",
    "\n",
    "print(f'Acuuracy training = {accuracy_score(target_train, train_predict)}')\n",
    "print(f'Acuuracy validation = {accuracy_score(target_valid, valid_predict)}')"
   ]
  },
  {
   "cell_type": "markdown",
   "metadata": {},
   "source": [
    "Unfortunately, the Logistic Regression model did not reach our criteria for neither the training or validaiton after tuning was applied. \n",
    "\n",
    "Training: 71.8%\n",
    "Valid: 73.5%"
   ]
  },
  {
   "cell_type": "markdown",
   "metadata": {},
   "source": [
    "## Conclusion"
   ]
  },
  {
   "cell_type": "markdown",
   "metadata": {},
   "source": [
    "We found through our sanity check that 70% of Megaline Mobile customers are included in the Ultra package. \n",
    "\n",
    "When the models were not tuned, none reached the accuracy criteria of 75%. \n",
    "\n",
    "The Decision Tree model after tuning passed the criteria with 77.7%.\n",
    "\n",
    "The Random Forest model after tuning passed the criteria with 78.7%.\n",
    "\n",
    "The Logistic Regression model did not reach criteria with 73.5%.\n",
    "\n",
    "From all the model experiments, we found that there are 2 that met the criteria:\n",
    "\n",
    "Decision Tree: max_depth = 8\n",
    "Random Forest: max_depth = 10 , n_estimator=450.\n",
    "\n",
    "It can be concluded that the best model with the highest efficiency is the Random Forest model with a max_depth set to 10 and `n_estimator = 450`"
   ]
  }
 ],
 "metadata": {
  "ExecuteTimeLog": [
   {
    "duration": 14,
    "start_time": "2024-06-11T21:43:36.218Z"
   },
   {
    "duration": 5702,
    "start_time": "2024-06-11T21:43:40.758Z"
   },
   {
    "duration": 765,
    "start_time": "2024-06-11T21:44:57.887Z"
   },
   {
    "duration": 124,
    "start_time": "2024-06-11T21:46:36.024Z"
   },
   {
    "duration": 11,
    "start_time": "2024-06-11T21:48:33.173Z"
   },
   {
    "duration": 18,
    "start_time": "2024-06-11T21:48:50.131Z"
   },
   {
    "duration": 23,
    "start_time": "2024-06-11T21:49:05.245Z"
   },
   {
    "duration": 17,
    "start_time": "2024-06-11T21:49:10.268Z"
   },
   {
    "duration": 41,
    "start_time": "2024-06-11T21:49:26.614Z"
   },
   {
    "duration": 8,
    "start_time": "2024-06-11T21:50:14.764Z"
   },
   {
    "duration": 15,
    "start_time": "2024-06-11T21:51:03.754Z"
   },
   {
    "duration": 9,
    "start_time": "2024-06-11T21:51:24.176Z"
   },
   {
    "duration": 8,
    "start_time": "2024-06-11T21:54:22.251Z"
   },
   {
    "duration": 9,
    "start_time": "2024-06-11T21:57:32.984Z"
   },
   {
    "duration": 27,
    "start_time": "2024-06-11T21:57:58.966Z"
   },
   {
    "duration": 5,
    "start_time": "2024-06-11T21:58:05.954Z"
   },
   {
    "duration": 40,
    "start_time": "2024-06-11T22:03:11.683Z"
   },
   {
    "duration": 25,
    "start_time": "2024-06-11T22:03:54.013Z"
   },
   {
    "duration": 8,
    "start_time": "2024-06-11T22:04:11.601Z"
   },
   {
    "duration": 7,
    "start_time": "2024-06-11T22:04:12.684Z"
   },
   {
    "duration": 4,
    "start_time": "2024-06-11T22:04:13.719Z"
   },
   {
    "duration": 4,
    "start_time": "2024-06-11T22:04:39.125Z"
   },
   {
    "duration": 18,
    "start_time": "2024-06-11T22:04:40.876Z"
   },
   {
    "duration": 14,
    "start_time": "2024-06-11T22:04:48.192Z"
   },
   {
    "duration": 13,
    "start_time": "2024-06-11T22:04:54.415Z"
   },
   {
    "duration": 40,
    "start_time": "2024-06-11T22:04:58.165Z"
   },
   {
    "duration": 7,
    "start_time": "2024-06-11T22:05:05.154Z"
   },
   {
    "duration": 9,
    "start_time": "2024-06-11T22:05:05.978Z"
   },
   {
    "duration": 9,
    "start_time": "2024-06-11T22:05:45.592Z"
   },
   {
    "duration": 9,
    "start_time": "2024-06-11T22:05:46.923Z"
   },
   {
    "duration": 4,
    "start_time": "2024-06-11T22:05:51.551Z"
   },
   {
    "duration": 34,
    "start_time": "2024-06-11T22:05:54.329Z"
   },
   {
    "duration": 36,
    "start_time": "2024-06-11T22:06:43.209Z"
   },
   {
    "duration": 7,
    "start_time": "2024-06-11T22:07:07.464Z"
   },
   {
    "duration": 4,
    "start_time": "2024-06-11T22:07:08.039Z"
   },
   {
    "duration": 7,
    "start_time": "2024-06-11T22:07:37.702Z"
   },
   {
    "duration": 5,
    "start_time": "2024-06-11T22:07:38.620Z"
   },
   {
    "duration": 24,
    "start_time": "2024-06-11T22:07:40.327Z"
   },
   {
    "duration": 28,
    "start_time": "2024-06-11T22:10:02.933Z"
   },
   {
    "duration": 586,
    "start_time": "2024-06-11T22:10:18.050Z"
   },
   {
    "duration": 598,
    "start_time": "2024-06-11T22:10:42.043Z"
   },
   {
    "duration": 27,
    "start_time": "2024-06-11T22:12:52.371Z"
   },
   {
    "duration": 8,
    "start_time": "2024-06-11T22:14:25.800Z"
   },
   {
    "duration": 7,
    "start_time": "2024-06-11T22:22:59.108Z"
   },
   {
    "duration": 36,
    "start_time": "2024-06-11T22:23:02.961Z"
   },
   {
    "duration": 41,
    "start_time": "2024-06-11T22:23:16.796Z"
   },
   {
    "duration": 48,
    "start_time": "2024-06-11T22:23:39.621Z"
   },
   {
    "duration": 79,
    "start_time": "2024-06-11T22:23:56.708Z"
   },
   {
    "duration": 8,
    "start_time": "2024-06-11T22:28:20.197Z"
   },
   {
    "duration": 14,
    "start_time": "2024-06-11T22:28:24.122Z"
   },
   {
    "duration": 149,
    "start_time": "2024-06-11T22:41:13.665Z"
   },
   {
    "duration": 92932,
    "start_time": "2024-06-11T22:42:29.413Z"
   },
   {
    "duration": 92198,
    "start_time": "2024-06-11T22:45:35.709Z"
   },
   {
    "duration": 92168,
    "start_time": "2024-06-11T22:49:56.800Z"
   },
   {
    "duration": 1886,
    "start_time": "2024-06-11T22:57:42.360Z"
   },
   {
    "duration": 20,
    "start_time": "2024-06-11T22:59:25.743Z"
   },
   {
    "duration": 4,
    "start_time": "2024-06-11T23:41:34.134Z"
   },
   {
    "duration": 11,
    "start_time": "2024-06-11T23:41:34.600Z"
   },
   {
    "duration": 14,
    "start_time": "2024-06-11T23:41:35.069Z"
   },
   {
    "duration": 13,
    "start_time": "2024-06-11T23:41:35.892Z"
   },
   {
    "duration": 30,
    "start_time": "2024-06-11T23:41:36.784Z"
   },
   {
    "duration": 11,
    "start_time": "2024-06-11T23:41:40.707Z"
   },
   {
    "duration": 9,
    "start_time": "2024-06-11T23:41:41.256Z"
   },
   {
    "duration": 3,
    "start_time": "2024-06-11T23:45:11.721Z"
   },
   {
    "duration": 8,
    "start_time": "2024-06-11T23:52:54.184Z"
   },
   {
    "duration": 113,
    "start_time": "2024-06-12T00:06:29.677Z"
   },
   {
    "duration": 17,
    "start_time": "2024-06-12T00:07:20.778Z"
   },
   {
    "duration": 2308,
    "start_time": "2024-06-12T06:37:09.649Z"
   },
   {
    "duration": 1113,
    "start_time": "2024-06-12T06:37:11.961Z"
   },
   {
    "duration": 0,
    "start_time": "2024-06-12T06:37:13.080Z"
   },
   {
    "duration": 0,
    "start_time": "2024-06-12T06:37:13.084Z"
   },
   {
    "duration": 0,
    "start_time": "2024-06-12T06:37:13.087Z"
   },
   {
    "duration": 1,
    "start_time": "2024-06-12T06:37:13.090Z"
   },
   {
    "duration": 0,
    "start_time": "2024-06-12T06:37:13.094Z"
   },
   {
    "duration": 0,
    "start_time": "2024-06-12T06:37:13.096Z"
   },
   {
    "duration": 0,
    "start_time": "2024-06-12T06:37:13.123Z"
   },
   {
    "duration": 0,
    "start_time": "2024-06-12T06:37:13.125Z"
   },
   {
    "duration": 0,
    "start_time": "2024-06-12T06:37:13.127Z"
   },
   {
    "duration": 0,
    "start_time": "2024-06-12T06:37:13.130Z"
   },
   {
    "duration": 0,
    "start_time": "2024-06-12T06:37:13.131Z"
   },
   {
    "duration": 0,
    "start_time": "2024-06-12T06:37:13.134Z"
   },
   {
    "duration": 0,
    "start_time": "2024-06-12T06:37:13.136Z"
   },
   {
    "duration": 0,
    "start_time": "2024-06-12T06:37:13.140Z"
   },
   {
    "duration": 0,
    "start_time": "2024-06-12T06:37:13.142Z"
   },
   {
    "duration": 0,
    "start_time": "2024-06-12T06:37:13.145Z"
   },
   {
    "duration": 0,
    "start_time": "2024-06-12T06:37:13.147Z"
   },
   {
    "duration": 5252,
    "start_time": "2024-06-12T14:10:02.271Z"
   },
   {
    "duration": 20,
    "start_time": "2024-06-12T14:10:07.527Z"
   },
   {
    "duration": 6,
    "start_time": "2024-06-12T14:11:04.184Z"
   },
   {
    "duration": 13,
    "start_time": "2024-06-12T14:11:04.195Z"
   },
   {
    "duration": 19,
    "start_time": "2024-06-12T14:11:04.211Z"
   },
   {
    "duration": 18,
    "start_time": "2024-06-12T14:11:04.234Z"
   },
   {
    "duration": 67,
    "start_time": "2024-06-12T14:11:04.257Z"
   },
   {
    "duration": 10,
    "start_time": "2024-06-12T14:11:04.328Z"
   },
   {
    "duration": 12,
    "start_time": "2024-06-12T14:11:04.341Z"
   },
   {
    "duration": 9,
    "start_time": "2024-06-12T14:11:04.357Z"
   },
   {
    "duration": 49,
    "start_time": "2024-06-12T14:11:04.369Z"
   },
   {
    "duration": 6,
    "start_time": "2024-06-12T14:11:04.421Z"
   },
   {
    "duration": 27,
    "start_time": "2024-06-12T14:11:04.430Z"
   },
   {
    "duration": 615,
    "start_time": "2024-06-12T14:11:04.460Z"
   },
   {
    "duration": 59,
    "start_time": "2024-06-12T14:11:05.078Z"
   },
   {
    "duration": 8,
    "start_time": "2024-06-12T14:11:05.142Z"
   },
   {
    "duration": 147,
    "start_time": "2024-06-12T14:11:05.153Z"
   },
   {
    "duration": 24,
    "start_time": "2024-06-12T14:11:05.303Z"
   },
   {
    "duration": 6,
    "start_time": "2024-06-12T14:17:35.609Z"
   },
   {
    "duration": 9,
    "start_time": "2024-06-12T14:17:36.037Z"
   },
   {
    "duration": 4,
    "start_time": "2024-06-12T14:17:45.821Z"
   },
   {
    "duration": 9,
    "start_time": "2024-06-12T14:17:45.829Z"
   },
   {
    "duration": 15,
    "start_time": "2024-06-12T14:17:45.841Z"
   },
   {
    "duration": 53,
    "start_time": "2024-06-12T14:17:45.860Z"
   },
   {
    "duration": 30,
    "start_time": "2024-06-12T14:17:45.918Z"
   },
   {
    "duration": 9,
    "start_time": "2024-06-12T14:17:45.950Z"
   },
   {
    "duration": 9,
    "start_time": "2024-06-12T14:17:45.962Z"
   },
   {
    "duration": 8,
    "start_time": "2024-06-12T14:17:46.013Z"
   },
   {
    "duration": 10,
    "start_time": "2024-06-12T14:17:46.024Z"
   },
   {
    "duration": 5,
    "start_time": "2024-06-12T14:17:46.037Z"
   },
   {
    "duration": 25,
    "start_time": "2024-06-12T14:17:46.045Z"
   },
   {
    "duration": 577,
    "start_time": "2024-06-12T14:17:46.113Z"
   },
   {
    "duration": 34,
    "start_time": "2024-06-12T14:17:46.692Z"
   },
   {
    "duration": 7,
    "start_time": "2024-06-12T14:17:46.732Z"
   },
   {
    "duration": 151,
    "start_time": "2024-06-12T14:17:46.743Z"
   },
   {
    "duration": 26,
    "start_time": "2024-06-12T14:17:46.897Z"
   },
   {
    "duration": 321,
    "start_time": "2024-06-13T07:30:15.669Z"
   },
   {
    "duration": 26,
    "start_time": "2024-06-13T07:30:16.387Z"
   },
   {
    "duration": 5427,
    "start_time": "2024-06-13T07:30:29.979Z"
   },
   {
    "duration": 1167,
    "start_time": "2024-06-13T07:30:35.410Z"
   },
   {
    "duration": 0,
    "start_time": "2024-06-13T07:30:36.582Z"
   },
   {
    "duration": 0,
    "start_time": "2024-06-13T07:30:36.584Z"
   },
   {
    "duration": 0,
    "start_time": "2024-06-13T07:30:36.586Z"
   },
   {
    "duration": 0,
    "start_time": "2024-06-13T07:30:36.588Z"
   },
   {
    "duration": 0,
    "start_time": "2024-06-13T07:30:36.590Z"
   },
   {
    "duration": 0,
    "start_time": "2024-06-13T07:30:36.593Z"
   },
   {
    "duration": 0,
    "start_time": "2024-06-13T07:30:36.594Z"
   },
   {
    "duration": 0,
    "start_time": "2024-06-13T07:30:36.596Z"
   },
   {
    "duration": 0,
    "start_time": "2024-06-13T07:30:36.597Z"
   },
   {
    "duration": 0,
    "start_time": "2024-06-13T07:30:36.633Z"
   },
   {
    "duration": 0,
    "start_time": "2024-06-13T07:30:36.634Z"
   },
   {
    "duration": 0,
    "start_time": "2024-06-13T07:30:36.636Z"
   },
   {
    "duration": 0,
    "start_time": "2024-06-13T07:30:36.639Z"
   },
   {
    "duration": 0,
    "start_time": "2024-06-13T07:30:36.640Z"
   },
   {
    "duration": 0,
    "start_time": "2024-06-13T07:30:36.642Z"
   },
   {
    "duration": 0,
    "start_time": "2024-06-13T07:30:36.646Z"
   },
   {
    "duration": 0,
    "start_time": "2024-06-13T07:30:36.648Z"
   },
   {
    "duration": 1767,
    "start_time": "2024-06-13T07:31:23.405Z"
   },
   {
    "duration": 1238,
    "start_time": "2024-06-13T07:31:25.176Z"
   },
   {
    "duration": 0,
    "start_time": "2024-06-13T07:31:26.419Z"
   },
   {
    "duration": 0,
    "start_time": "2024-06-13T07:31:26.434Z"
   },
   {
    "duration": 0,
    "start_time": "2024-06-13T07:31:26.436Z"
   },
   {
    "duration": 0,
    "start_time": "2024-06-13T07:31:26.439Z"
   },
   {
    "duration": 0,
    "start_time": "2024-06-13T07:31:26.441Z"
   },
   {
    "duration": 0,
    "start_time": "2024-06-13T07:31:26.444Z"
   },
   {
    "duration": 1,
    "start_time": "2024-06-13T07:31:26.446Z"
   },
   {
    "duration": 0,
    "start_time": "2024-06-13T07:31:26.449Z"
   },
   {
    "duration": 0,
    "start_time": "2024-06-13T07:31:26.451Z"
   },
   {
    "duration": 0,
    "start_time": "2024-06-13T07:31:26.456Z"
   },
   {
    "duration": 0,
    "start_time": "2024-06-13T07:31:26.458Z"
   },
   {
    "duration": 0,
    "start_time": "2024-06-13T07:31:26.460Z"
   },
   {
    "duration": 0,
    "start_time": "2024-06-13T07:31:26.462Z"
   },
   {
    "duration": 0,
    "start_time": "2024-06-13T07:31:26.464Z"
   },
   {
    "duration": 0,
    "start_time": "2024-06-13T07:31:26.467Z"
   },
   {
    "duration": 0,
    "start_time": "2024-06-13T07:31:26.470Z"
   },
   {
    "duration": 0,
    "start_time": "2024-06-13T07:31:26.473Z"
   },
   {
    "duration": 1601,
    "start_time": "2024-06-13T07:31:36.125Z"
   },
   {
    "duration": 19,
    "start_time": "2024-06-13T07:31:37.732Z"
   },
   {
    "duration": 16,
    "start_time": "2024-06-13T07:31:37.754Z"
   },
   {
    "duration": 17,
    "start_time": "2024-06-13T07:31:37.773Z"
   },
   {
    "duration": 61,
    "start_time": "2024-06-13T07:31:37.793Z"
   },
   {
    "duration": 10,
    "start_time": "2024-06-13T07:31:37.857Z"
   },
   {
    "duration": 9,
    "start_time": "2024-06-13T07:31:37.870Z"
   },
   {
    "duration": 9,
    "start_time": "2024-06-13T07:31:37.882Z"
   },
   {
    "duration": 44,
    "start_time": "2024-06-13T07:31:37.894Z"
   },
   {
    "duration": 5,
    "start_time": "2024-06-13T07:31:37.941Z"
   },
   {
    "duration": 24,
    "start_time": "2024-06-13T07:31:37.950Z"
   },
   {
    "duration": 599,
    "start_time": "2024-06-13T07:31:37.977Z"
   },
   {
    "duration": 24,
    "start_time": "2024-06-13T07:31:38.581Z"
   },
   {
    "duration": 24,
    "start_time": "2024-06-13T07:31:38.611Z"
   },
   {
    "duration": 130,
    "start_time": "2024-06-13T07:31:38.638Z"
   },
   {
    "duration": 18,
    "start_time": "2024-06-13T07:31:38.771Z"
   },
   {
    "duration": 91219,
    "start_time": "2024-06-13T07:31:38.792Z"
   },
   {
    "duration": 1484,
    "start_time": "2024-06-13T07:33:10.014Z"
   },
   {
    "duration": 33,
    "start_time": "2024-06-13T07:33:11.501Z"
   }
  ],
  "kernelspec": {
   "display_name": "Python 3 (ipykernel)",
   "language": "python",
   "name": "python3"
  },
  "language_info": {
   "codemirror_mode": {
    "name": "ipython",
    "version": 3
   },
   "file_extension": ".py",
   "mimetype": "text/x-python",
   "name": "python",
   "nbconvert_exporter": "python",
   "pygments_lexer": "ipython3",
   "version": "3.9.19"
  },
  "toc": {
   "base_numbering": 1,
   "nav_menu": {},
   "number_sections": true,
   "sideBar": true,
   "skip_h1_title": true,
   "title_cell": "Table of Contents",
   "title_sidebar": "Contents",
   "toc_cell": false,
   "toc_position": {},
   "toc_section_display": true,
   "toc_window_display": false
  }
 },
 "nbformat": 4,
 "nbformat_minor": 2
}
